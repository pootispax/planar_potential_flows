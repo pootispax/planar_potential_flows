{
 "cells": [
  {
   "cell_type": "markdown",
   "metadata": {},
   "source": [
    "# <center>Travail d'Étude</center>\n",
    "## <center>Calcul formel et tracés de graphiques</center>"
   ]
  },
  {
   "cell_type": "code",
   "execution_count": null,
   "metadata": {},
   "outputs": [],
   "source": [
    "from sympy import *\n",
    "from sympy.abc import p, theta, phi\n",
    "import numpy as np\n",
    "import matplotlib.pyplot as plt\n",
    "from mpl_toolkits.mplot3d import Axes3D\n"
   ]
  },
  {
   "cell_type": "markdown",
   "metadata": {},
   "source": [
    "## Les imports<br>\n",
    "**sympy** est utilisé pour le calcul formel. Pour des raisons de simplicité, toutes les fonctions utilisées dans ce documents sont calculées informatiquement, il a été vérifié par analyse graphique que les résultats des calculs faits à la main correspondent aux résultats déterminés par ordinateur.<br>\n",
    "**numpy** est prinipalement utilisé pour la gestion des formules une fois converties en fonctions afin de pouvoir les tracer correctement.<br>\n",
    "**matplotlib** et **mpl_toolkits.mplot3d** servent à tracer les graphes qui nous permettent de visualiser la fidélité pour les différents cas étudiés."
   ]
  },
  {
   "cell_type": "markdown",
   "metadata": {},
   "source": [
    "## Les objets mathématiques<br>"
   ]
  },
  {
   "cell_type": "code",
   "execution_count": null,
   "metadata": {},
   "outputs": [],
   "source": [
    "# Déclaration des variable\n",
    "\n",
    "theta = Symbol('theta')\n",
    "phi = Symbol('phi')\n",
    "p = Symbol('p')\n",
    "\n",
    "# Déclaration des matrices de Pauli\n",
    "sigmaX = Matrix([[0, 1],\n",
    "\t\t\t\t [1, 0]])\n",
    "sigmaY = Matrix([[0, -I],\n",
    "\t\t\t\t [I, 0]])\n",
    "sigmaZ = Matrix([[1, 0],\n",
    "\t\t\t   \t [0, -1]])\n",
    "splus = Matrix([[0, 1],\n",
    "\t\t\t\t[0, 0]])\n",
    "smoins = Matrix([[0, 0],\n",
    "\t\t\t\t [1, 0]])\n",
    "# Identité\n",
    "Id = Matrix([[1,0],\n",
    "             [0,1]])\n",
    "\n",
    "# Hadamard\n",
    "H = (1/sqrt(2))*Matrix([[1, 1],\n",
    "\t\t\t            [1, -1]])\n",
    "# Racine(X)\n",
    "sX = (1/sqrt(2))*Matrix([[1, -I],\n",
    "\t\t\t            [-I, 1]])\n",
    "# Racine(W)\n",
    "sW = (1/sqrt(2))*Matrix([[1, -exp(I*pi/4)],\n",
    "\t\t\t            [exp(-I*pi/4), 1]])\n",
    "\n",
    "# rho_0\n",
    "rhozero = Matrix([[cos(theta / 2) ** 2, exp(I * phi) * sin(theta) / 2],\n",
    "\t\t\t\t  [exp(-I * phi) * sin(theta) / 2, sin(theta / 2) ** 2]])\n"
   ]
  },
  {
   "cell_type": "markdown",
   "metadata": {},
   "source": [
    "Les variables *theta*, *phi* et *p* sont déclarées en tant que **Symbol()**. Ce sont des objets de **sympy** qui sont alors utilisables pour du calcul formel.\n",
    "Il en va de même pour toutes les matrices déclarées comme **Matrix()**."
   ]
  },
  {
   "cell_type": "code",
   "execution_count": null,
   "metadata": {},
   "outputs": [],
   "source": [
    "def deltap(rho):\n",
    "\treturn simplify(trigsimp((1 - p) * (sigmaZ * rho * sigmaZ) + p * (splus * rho * smoins) + p * (smoins * rho * splus)))\n",
    "\n",
    "def deltap2(rho):\n",
    "\treturn (1 - (p/2)) * (sigmaZ * rho * sigmaZ) + (p/2) * (splus * rho * smoins) + (p/2) * (smoins * rho * splus)\n"
   ]
  },
  {
   "cell_type": "markdown",
   "metadata": {},
   "source": [
    "Définition de l'application de dépolarisation $\\Delta_p$, ainsi que $\\dfrac{\\Delta_p}{2}$. L'argument $\\rho$ attendu est une matrice 2x2 (toutes les matrices traitées ici sont 2x2).<br>\n",
    "La fonction **simplify()** permet de simplifier autant que possible les expressions obtenues. La fonction **trigsimp()** simplfie également une expression en utilisant les identités trigonométriques.<br>"
   ]
  },
  {
   "cell_type": "code",
   "execution_count": null,
   "metadata": {},
   "outputs": [],
   "source": [
    "def av(M):\n",
    "    return M*(deltap(rhozero))*((conjugate(M)).T)\n",
    "\n",
    "def ap(M):\n",
    "    return deltap(M*rhozero*((conjugate(M)).T))\n",
    "\n",
    "def avap(M):\n",
    "    return deltap2(M*(deltap2(rhozero))*((conjugate(M)).T))\n"
   ]
  },
  {
   "cell_type": "markdown",
   "metadata": {},
   "source": [
    "Chacune de ces fonctions sert à appliquer du bruits sur les portes, respectivement avant la porte pour **av(M)**, après la porte pour **ap(M)** et avant et après la porte pour **avap(M)**. $M$ étant la matrice à étudier."
   ]
  },
  {
   "cell_type": "code",
   "execution_count": null,
   "metadata": {},
   "outputs": [],
   "source": [
    "def fid(rho, M):\n",
    "\ttemp = rho * (M*rhozero*((conjugate(M)).T))\n",
    "\treturn temp[0,0]+temp[1,1]\n"
   ]
  },
  {
   "cell_type": "markdown",
   "metadata": {},
   "source": [
    "La fonction **fid(rho, M)** sert à calculer la fidélité. Avec $\\rho$ la matrice après application du bruit et $M$ la matrice avant application du bruit."
   ]
  },
  {
   "cell_type": "code",
   "execution_count": null,
   "metadata": {},
   "outputs": [],
   "source": [
    "fct_id_av = lambdify([theta, phi, p], fid(av(Id), Id), 'numpy')\n",
    "fct_id_avap = lambdify([theta, phi, p], fid(avap(Id), Id), 'numpy')\n",
    "\n",
    "fct_H_ap = lambdify([theta, phi, p], fid(ap(H), H), 'numpy')\n",
    "fct_H_avap = lambdify([theta, phi, p], fid(avap(H), H), 'numpy')\n",
    "\n",
    "fct_sX_ap = lambdify([theta, phi, p], fid(ap(sX), sX), 'numpy')\n",
    "fct_sX_avap = lambdify([theta, phi, p], fid(avap(sX), sX), 'numpy')\n",
    "\n",
    "fct_sW_ap = lambdify([theta, phi, p], fid(ap(sW), sW), 'numpy')\n",
    "fct_sW_avap = lambdify([theta, phi, p], fid(avap(sW), sW), 'numpy')\n"
   ]
  },
  {
   "cell_type": "markdown",
   "metadata": {},
   "source": [
    "Ce bloc sert à calculer convertir les fonction **sympy** en fonction **numpy** afin de pouvoir tracer des graphiques.<br>\n",
    "Son exécution est un peu longue car les calculs pour les portes de Hadamart, $\\sqrt{X}$ et $\\sqrt{W}$ sont plus compliqués que les calculs sur les matrices de Pauli et la matrice identité.<br>\n",
    "Il est volontaire que ce bloc ne calcul pas toutes les fonctions car certaines sont identiques et afin d'optimiser le temps de calcul, nous n'avons pas programmé le calcul pour les fonctions qui se répètent. Les fonctions non calculées sont les suivantes :<br>\n",
    "1. Les matrices de Pauli, qui donnent des résultats identiques à la matrice identité, que le bruit soit appliqué avant, après ou avant et après la porte.<br>\n",
    "2. La matrice identité avec un bruit appliqué après la porte, donne un résultat identique à celui obtenu avec le bruit appliqué avant la porte.<br>\n",
    "3. La porte de Hadamart, qui donne des résultats identiques à la matrice identité quand le bruit est appliqué avant la porte.<br>\n",
    "4. Les portes $\\sqrt{X}$ et $\\sqrt{W}$, qui donnent des résultats identiques à la matrice identité lorsque le bruit est appliqué avant la porte."
   ]
  },
  {
   "cell_type": "markdown",
   "metadata": {},
   "source": [
    "## Les graphes<br>\n",
    "À partir d'ici, l'exécution de tous les blocs n'est plus nécessaire, afin de rendre le programme plus lisible, les tracés des graphes sont séparés de la manière suivante :<br>\n",
    "1. Les graphes sans déphasages\n",
    "2. Les graphes pour la phase de i\n",
    "3. Les graphes pour l'état propre\n",
    "4. Les graphes pour le chat de Schrödinger\n"
   ]
  },
  {
   "cell_type": "code",
   "execution_count": null,
   "metadata": {},
   "outputs": [],
   "source": [
    "%%capture\n",
    "\n",
    "fig = plt.figure(figsize=(24, 30))\n",
    "\n",
    "ax1 = fig.add_subplot(4, 2, 1, projection='3d')\n",
    "ax2 = fig.add_subplot(4, 2, 2, projection='3d')\n",
    "ax3 = fig.add_subplot(4, 2, 3, projection='3d')\n",
    "ax4 = fig.add_subplot(4, 2, 4, projection='3d')\n",
    "ax5 = fig.add_subplot(4, 2, 5, projection='3d')\n",
    "ax6 = fig.add_subplot(4, 2, 6, projection='3d')\n",
    "ax7 = fig.add_subplot(4, 2, 7, projection='3d')\n",
    "ax8 = fig.add_subplot(4, 2, 8, projection='3d')\n"
   ]
  },
  {
   "cell_type": "markdown",
   "metadata": {},
   "source": [
    "Ce bloc crée les 8 subplots qui seront utilisés pour l'affichage. Une seule exécution suffit, le changement de cas se fait plus tard.<br>\n",
    "**%%capture** empêche Jupyter d'afficher les graphes vides au moment de leur déclaration."
   ]
  },
  {
   "cell_type": "markdown",
   "metadata": {},
   "source": [
    "La fonction suivante est créée pour rendre le tracé des graphes moins lourd (évite les gros blocs de texte répétitifs pour les mêmes plots). Elle n'a aucun impact sur les expressions."
   ]
  },
  {
   "cell_type": "code",
   "execution_count": null,
   "metadata": {},
   "outputs": [],
   "source": [
    "def plot_fid(ax, x, y, z, cas, title):\n",
    "    ax.clear()\n",
    "    \n",
    "    if cas == \"cas1\" or cas == \"cas2\":\n",
    "        ax.set_xlabel(\"theta\")\n",
    "    elif cas == \"cas3\" or cas == \"cas4\":\n",
    "        ax.set_xlabel(\"phi\")\n",
    "\n",
    "    ax.set_ylabel(\"p\")  \n",
    "    ax.set_zlabel(\"F\")\n",
    "    ax.set_title(title)\n",
    "    ax.grid()\n",
    "    \n",
    "    return ax.plot_surface(x, y, z, cmap='jet')"
   ]
  },
  {
   "cell_type": "markdown",
   "metadata": {},
   "source": [
    "Pour enregistrer les graphiques, il suffit d'enlever le commentaire de la ligne **fig.savefig(\"----.jpeg\")** dans les blocs appelant la fonction **plot_fid()**.\n",
    "Le format par défaut est le jpeg, il est possible d'enregistrer en pdf pour avoir des images vectorielles, mais les fichiers deviennent rapidement lourds si les blocs sont exécutés plusieurs fois sans relancer le noyau python3 régulièrement."
   ]
  },
  {
   "cell_type": "markdown",
   "metadata": {},
   "source": [
    "### 1. Pas de déphasage\n",
    "$F (\\theta, 0, p)$"
   ]
  },
  {
   "cell_type": "code",
   "execution_count": null,
   "metadata": {},
   "outputs": [],
   "source": [
    "pas = 100\n",
    "theta = np.linspace(0, np.pi, pas)\n",
    "p = np.linspace(0, 1, pas)\n",
    "phi = 0\n",
    "\n",
    "X, Y = np.meshgrid(theta, p)\n",
    "\n",
    "Z1 = np.real(fct_id_av(X, phi, Y))\n",
    "Z2 = np.real(fct_H_ap(X, phi, Y))\n",
    "Z3 = np.real(fct_sX_ap(X, phi, Y))\n",
    "Z4 = np.real(fct_sW_ap(X, phi, Y))\n",
    "Z5 = np.real(fct_id_avap(X, phi, Y))\n",
    "Z6 = np.real(fct_H_avap(X, phi, Y))\n",
    "Z7 = np.real(fct_sX_avap(X, phi, Y))\n",
    "Z8 = np.real(fct_sW_avap(X, phi, Y))\n"
   ]
  },
  {
   "cell_type": "markdown",
   "metadata": {},
   "source": [
    "Ce bloc crée des listes pour $\\theta$ et $p$, affecte la valeur 0 à $\\varphi$ et calcul les éléments nécessaires au tracé des plots 3D.<br>\n",
    "Le pas peut-être changé, mais le calcul devient rapidement lourd à force de l'augmenter, 100 est une valeur correcte qui nous permet de voir correctement les plots.<br>\n",
    "Ce bloc est copié et modifié dans chacun des 4 cas en changeant les éléments nécessaires. (voir plus bas)"
   ]
  },
  {
   "cell_type": "code",
   "execution_count": null,
   "metadata": {},
   "outputs": [],
   "source": [
    "plot_fid(ax1, X, Y, Z1, \"cas1\", \"Id avant\")\n",
    "plot_fid(ax2, X, Y, Z2, \"cas1\", \"H après\")\n",
    "plot_fid(ax3, X, Y, Z3, \"cas1\", \"sqrtX après\")\n",
    "plot_fid(ax4, X, Y, Z4, \"cas1\", \"sqrtW après\")\n",
    "plot_fid(ax5, X, Y, Z5, \"cas1\", \"Id avant et après\")\n",
    "plot_fid(ax6, X, Y, Z6, \"cas1\", \"H avant et après\")\n",
    "plot_fid(ax7, X, Y, Z7, \"cas1\", \"sqrtX avant et après\")\n",
    "plot_fid(ax8, X, Y, Z8, \"cas1\", \"sqrtW avant et après\")\n",
    "\n",
    "# fig.savefig(\"pas_de_dephasage.jpeg\")\n",
    "fig\n"
   ]
  },
  {
   "cell_type": "markdown",
   "metadata": {},
   "source": [
    "Ces graphes sont beaux, mais l'interprétation est compliquée. $\\theta$ étant responsable de l'aspect sinusoïdal, on peut tracer les plots uniquement en fonction de $\\theta$ et superposer les résultats pour différentes valeurs de $p$ afin d'étudier son effet.<br>\n",
    "Nous allons donc tracer des graphes 2D pour 6 valeurs de $p$ (0,0 ; 0,2 ; 0,4 ; 0,6 ; 0,8 ; 1,0)."
   ]
  },
  {
   "cell_type": "markdown",
   "metadata": {},
   "source": [
    "Même chose que plus haut, la fonction suivante est appelé pour tracer les graphes 2D sans avoir à répéter les mêmes lignes de code."
   ]
  },
  {
   "cell_type": "code",
   "execution_count": null,
   "metadata": {},
   "outputs": [],
   "source": [
    "def plot_2d(ax, x, fct, const, cas, title):\n",
    "    ax.clear()\n",
    "    if cas == \"cas1\" or cas == \"cas2\":\n",
    "        ax.set_xlabel(\"theta\")\n",
    "    elif cas == \"cas3\" or cas == \"cas4\":\n",
    "        ax.set_xlabel(\"phi\")\n",
    "    \n",
    "    ax.set_ylabel(\"F\")\n",
    "    ax.set_ylim([-0.2, 1.2])\n",
    "    ax.set_title(title)\n",
    "    \n",
    "    for i in range(0, 11, 2):\n",
    "        if fct == \"id_av\":\n",
    "            ax.plot(x, np.real(fct_id_av(x, const, i / 10)), label=\"p = %1.1f\"%(i / 10))\n",
    "        elif fct == \"H_ap\":\n",
    "            ax.plot(x, np.real(fct_H_ap(x, const, i / 10)), label=\"p = %1.1f\"%(i / 10))\n",
    "        elif fct == \"sX_ap\":\n",
    "            ax.plot(x, np.real(fct_sX_ap(x, const, i / 10)), label=\"p = %1.1f\"%(i / 10))\n",
    "        elif fct == \"sW_ap\":\n",
    "            ax.plot(x, np.real(fct_sW_ap(x, const, i / 10)), label=\"p = %1.1f\"%(i / 10))\n",
    "        elif fct == \"id_avap\":\n",
    "            ax.plot(x, np.real(fct_id_avap(x, const, i / 10)), label=\"p = %1.1f\"%(i / 10))\n",
    "        elif fct == \"H_avap\":\n",
    "            ax.plot(x, np.real(fct_H_avap(x, const, i / 10)), label=\"p = %1.1f\"%(i / 10))\n",
    "        elif fct == \"sX_avap\":\n",
    "            ax.plot(x, np.real(fct_sX_avap(x, const, i / 10)), label=\"p = %1.1f\"%(i / 10))\n",
    "        elif fct == \"sW_avap\":\n",
    "            ax.plot(x, np.real(fct_sW_avap(x, const, i / 10)), label=\"p = %1.1f\"%(i / 10))\n",
    "    ax.grid()\n",
    "    ax.legend()\n"
   ]
  },
  {
   "cell_type": "code",
   "execution_count": null,
   "metadata": {},
   "outputs": [],
   "source": [
    "%%capture\n",
    "\n",
    "fig2 = plt.figure(figsize=(24, 30))\n",
    "\n",
    "ax11 = fig2.add_subplot(4, 2, 1)\n",
    "ax12 = fig2.add_subplot(4, 2, 2)\n",
    "ax13 = fig2.add_subplot(4, 2, 3)\n",
    "ax14 = fig2.add_subplot(4, 2, 4)\n",
    "ax15 = fig2.add_subplot(4, 2, 5)\n",
    "ax16 = fig2.add_subplot(4, 2, 6)\n",
    "ax17 = fig2.add_subplot(4, 2, 7)\n",
    "ax18 = fig2.add_subplot(4, 2, 8)\n"
   ]
  },
  {
   "cell_type": "code",
   "execution_count": null,
   "metadata": {},
   "outputs": [],
   "source": [
    "phi = 0\n",
    "pas = 100\n",
    "theta = np.linspace(0, np.pi, pas)\n",
    "\n",
    "plot_2d(ax11, theta, \"id_av\", phi, \"cas1\", \"Id avant\")\n",
    "plot_2d(ax12, theta, \"H_ap\", phi, \"cas1\", \"H après\")\n",
    "plot_2d(ax13, theta, \"sX_ap\", phi, \"cas1\", \"sqrtX après\")\n",
    "plot_2d(ax14, theta, \"sW_ap\", phi, \"cas1\", \"sqrtW après\")\n",
    "plot_2d(ax15, theta, \"id_avap\", phi, \"cas1\", \"Id avant\")\n",
    "plot_2d(ax16, theta, \"H_avap\", phi, \"cas1\", \"H avant et après\")\n",
    "plot_2d(ax17, theta, \"sX_avap\", phi, \"cas1\", \"sqrtX avant et après\")\n",
    "plot_2d(ax18, theta, \"sW_avap\", phi, \"cas1\", \"sqrtX avant et après\")\n",
    "fig2\n"
   ]
  },
  {
   "cell_type": "markdown",
   "metadata": {},
   "source": [
    "# 2. Phase de i\n",
    "$F (\\theta, \\pi, p)$"
   ]
  },
  {
   "cell_type": "code",
   "execution_count": null,
   "metadata": {},
   "outputs": [],
   "source": [
    "pas = 100\n",
    "theta = np.linspace(0, np.pi, pas)\n",
    "p = np.linspace(0, 1, pas)\n",
    "phi = np.pi\n",
    "\n",
    "X, Y = np.meshgrid(theta, p)\n",
    "\n",
    "Z1 = np.real(fct_id_av(X, phi, Y))\n",
    "Z2 = np.real(fct_H_ap(X, phi, Y))\n",
    "Z3 = np.real(fct_sX_ap(X, phi, Y))\n",
    "Z4 = np.real(fct_sW_ap(X, phi, Y))\n",
    "Z5 = np.real(fct_id_avap(X, phi, Y))\n",
    "Z6 = np.real(fct_H_avap(X, phi, Y))\n",
    "Z7 = np.real(fct_sX_avap(X, phi, Y))\n",
    "Z8 = np.real(fct_sW_avap(X, phi, Y))\n"
   ]
  },
  {
   "cell_type": "code",
   "execution_count": null,
   "metadata": {},
   "outputs": [],
   "source": [
    "plot_fid(ax1, X, Y, Z1, \"cas2\", \"Id avant\")\n",
    "plot_fid(ax2, X, Y, Z2, \"cas2\", \"H après\")\n",
    "plot_fid(ax3, X, Y, Z3, \"cas2\", \"sqrtX après\")\n",
    "plot_fid(ax4, X, Y, Z4, \"cas2\", \"sqrtW après\")\n",
    "plot_fid(ax5, X, Y, Z5, \"cas2\", \"Id avant et après\")\n",
    "plot_fid(ax6, X, Y, Z6, \"cas2\", \"H avant et après\")\n",
    "plot_fid(ax7, X, Y, Z7, \"cas2\", \"sqrtX avant et après\")\n",
    "plot_fid(ax8, X, Y, Z8, \"cas2\", \"sqrtW avant et après\")\n",
    "\n",
    "# fig.savefig(\"phase_de_i.jpeg\")\n",
    "fig\n"
   ]
  },
  {
   "cell_type": "code",
   "execution_count": null,
   "metadata": {},
   "outputs": [],
   "source": [
    "phi = np.pi / 2\n",
    "pas = 100\n",
    "theta = np.linspace(0, np.pi, pas)\n",
    "\n",
    "plot_2d(ax11, theta, \"id_av\", phi, \"cas2\", \"Id avant\")\n",
    "plot_2d(ax12, theta, \"H_ap\", phi, \"cas2\", \"H après\")\n",
    "plot_2d(ax13, theta, \"sX_ap\", phi, \"cas2\", \"sqrtX après\")\n",
    "plot_2d(ax14, theta, \"sW_ap\", phi, \"cas2\", \"sqrtW après\")\n",
    "plot_2d(ax15, theta, \"id_avap\", phi, \"cas2\", \"Id avant\")\n",
    "plot_2d(ax16, theta, \"H_avap\", phi, \"cas2\", \"H avant et après\")\n",
    "plot_2d(ax17, theta, \"sX_avap\", phi, \"cas2\", \"sqrtX avant et après\")\n",
    "plot_2d(ax18, theta, \"sW_avap\", phi, \"cas2\", \"sqrtX avant et après\")\n",
    "fig2\n"
   ]
  },
  {
   "cell_type": "markdown",
   "metadata": {},
   "source": [
    "### 3. État propre\n",
    "$F (\\pi, \\varphi, p)$"
   ]
  },
  {
   "cell_type": "code",
   "execution_count": null,
   "metadata": {},
   "outputs": [],
   "source": [
    "pas = 100\n",
    "phi = np.linspace(0, 2*np.pi, pas)\n",
    "p = np.linspace(0, 1, pas)\n",
    "theta = np.pi\n",
    "\n",
    "X, Y = np.meshgrid(phi, p)\n",
    "\n",
    "Z1 = np.real(fct_id_av(theta, X, Y))\n",
    "Z2 = np.real(fct_H_ap(theta, X, Y))\n",
    "Z3 = np.real(fct_sX_ap(theta, X, Y))\n",
    "Z4 = np.real(fct_sW_ap(theta, X, Y))\n",
    "Z5 = np.real(fct_id_avap(theta, X, Y))\n",
    "Z6 = np.real(fct_H_avap(theta, X, Y))\n",
    "Z7 = np.real(fct_sX_avap(theta, X, Y))\n",
    "Z8 = np.real(fct_sW_avap(theta, X, Y))\n"
   ]
  },
  {
   "cell_type": "code",
   "execution_count": null,
   "metadata": {},
   "outputs": [],
   "source": [
    "plot_fid(ax1, X, Y, Z1, \"cas3\", \"Id avant\")\n",
    "plot_fid(ax2, X, Y, Z2, \"cas3\", \"H après\")\n",
    "plot_fid(ax3, X, Y, Z3, \"cas3\", \"sqrtX après\")\n",
    "plot_fid(ax4, X, Y, Z4, \"cas3\", \"sqrtW après\")\n",
    "plot_fid(ax5, X, Y, Z5, \"cas3\", \"Id avant et après\")\n",
    "plot_fid(ax6, X, Y, Z6, \"cas3\", \"H avant et après\")\n",
    "plot_fid(ax7, X, Y, Z7, \"cas3\", \"sqrtX avant et après\")\n",
    "plot_fid(ax8, X, Y, Z8, \"cas3\", \"sqrtW avant et après\")\n",
    "\n",
    "# fig.savefig(\"etat_propre.jpeg\")\n",
    "fig\n"
   ]
  },
  {
   "cell_type": "markdown",
   "metadata": {},
   "source": [
    "### 3.5 États propres - Partie imaginaire<br>\n",
    "Les graphes pour les états propres semblent trop \"simples\". Nous avons donc tracé la partie imaginaire de la fidélité, cela donne des graphiques plutôt surprenants."
   ]
  },
  {
   "cell_type": "code",
   "execution_count": null,
   "metadata": {},
   "outputs": [],
   "source": [
    "pas = 100\n",
    "phi = np.linspace(0, 2*np.pi, pas)\n",
    "p = np.linspace(0, 1, pas)\n",
    "theta = np.pi\n",
    "\n",
    "X, Y = np.meshgrid(phi, p)\n",
    "\n",
    "Z1 = np.imag(fct_id_av(theta, X, Y))\n",
    "Z2 = np.imag(fct_H_ap(theta, X, Y))\n",
    "Z3 = np.imag(fct_sX_ap(theta, X, Y))\n",
    "Z4 = np.imag(fct_sW_ap(theta, X, Y))\n",
    "Z5 = np.imag(fct_id_avap(theta, X, Y))\n",
    "Z6 = np.imag(fct_H_avap(theta, X, Y))\n",
    "Z7 = np.imag(fct_sX_avap(theta, X, Y))\n",
    "Z8 = np.imag(fct_sW_avap(theta, X, Y))"
   ]
  },
  {
   "cell_type": "code",
   "execution_count": null,
   "metadata": {},
   "outputs": [],
   "source": [
    "plot_fid(ax1, X, Y, Z1, \"cas3\", \"Id avant\")\n",
    "plot_fid(ax2, X, Y, Z2, \"cas3\", \"H après\")\n",
    "plot_fid(ax3, X, Y, Z3, \"cas3\", \"sqrtX après\")\n",
    "plot_fid(ax4, X, Y, Z4, \"cas3\", \"sqrtW après\")\n",
    "plot_fid(ax5, X, Y, Z5, \"cas3\", \"Id avant et après\")\n",
    "plot_fid(ax6, X, Y, Z6, \"cas3\", \"H avant et après\")\n",
    "plot_fid(ax7, X, Y, Z7, \"cas3\", \"sqrtX avant et après\")\n",
    "plot_fid(ax8, X, Y, Z8, \"cas3\", \"sqrtW avant et après\")\n",
    "\n",
    "# fig.savefig(\"etat_propre_complexe.jpeg\")\n",
    "fig\n"
   ]
  },
  {
   "cell_type": "markdown",
   "metadata": {},
   "source": [
    "### 4. Chat de Schrödinger"
   ]
  },
  {
   "cell_type": "code",
   "execution_count": null,
   "metadata": {},
   "outputs": [],
   "source": [
    "pas = 100\n",
    "phi = np.linspace(0, 2*np.pi, pas)\n",
    "p = np.linspace(0, 1, pas)\n",
    "theta = np.pi / 2\n",
    "\n",
    "X, Y = np.meshgrid(phi, p)\n",
    "\n",
    "Z1 = np.real(fct_id_av(theta, X, Y))\n",
    "Z2 = np.real(fct_H_ap(theta, X, Y))\n",
    "Z3 = np.real(fct_sX_ap(theta, X, Y))\n",
    "Z4 = np.real(fct_sW_ap(theta, X, Y))\n",
    "Z5 = np.real(fct_id_avap(theta, X, Y))\n",
    "Z6 = np.real(fct_H_avap(theta, X, Y))\n",
    "Z7 = np.real(fct_sX_avap(theta, X, Y))\n",
    "Z8 = np.real(fct_sW_avap(theta, X, Y))"
   ]
  },
  {
   "cell_type": "code",
   "execution_count": null,
   "metadata": {},
   "outputs": [],
   "source": [
    "plot_fid(ax1, X, Y, Z1, \"cas4\", \"Id avant\")\n",
    "plot_fid(ax2, X, Y, Z2, \"cas4\", \"H après\")\n",
    "plot_fid(ax3, X, Y, Z3, \"cas4\", \"sqrtX après\")\n",
    "plot_fid(ax4, X, Y, Z4, \"cas4\", \"sqrtW après\")\n",
    "plot_fid(ax5, X, Y, Z5, \"cas4\", \"Id avant et après\")\n",
    "plot_fid(ax6, X, Y, Z6, \"cas4\", \"H avant et après\")\n",
    "plot_fid(ax7, X, Y, Z7, \"cas4\", \"sqrtX avant et après\")\n",
    "plot_fid(ax8, X, Y, Z8, \"cas4\", \"sqrtW avant et après\")\n",
    "\n",
    "fig.savefig(\"chat_de_schrodinger.jpeg\")\n",
    "fig\n"
   ]
  },
  {
   "cell_type": "code",
   "execution_count": null,
   "metadata": {},
   "outputs": [],
   "source": []
  }
 ],
 "metadata": {
  "kernelspec": {
   "display_name": "Python 3",
   "language": "python",
   "name": "python3"
  },
  "language_info": {
   "codemirror_mode": {
    "name": "ipython",
    "version": 3
   },
   "file_extension": ".py",
   "mimetype": "text/x-python",
   "name": "python",
   "nbconvert_exporter": "python",
   "pygments_lexer": "ipython3",
   "version": "3.8.5"
  }
 },
 "nbformat": 4,
 "nbformat_minor": 4
}
